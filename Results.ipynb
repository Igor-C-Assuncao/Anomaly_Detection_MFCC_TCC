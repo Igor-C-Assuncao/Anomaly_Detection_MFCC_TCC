{
 "cells": [
  {
   "cell_type": "code",
   "execution_count": null,
   "id": "f72ce669",
   "metadata": {},
   "outputs": [],
   "source": [
    "import WAE.WAE_hyperparams as wae_hp\n",
    "import subprocess"
   ]
  },
  {
   "cell_type": "code",
   "execution_count": null,
   "id": "ccc62612",
   "metadata": {},
   "outputs": [
    {
     "ename": "",
     "evalue": "",
     "output_type": "error",
     "traceback": [
      "\u001b[1;31mThe Kernel crashed while executing code in the current cell or a previous cell. \n",
      "\u001b[1;31mPlease review the code in the cell(s) to identify a possible cause of the failure. \n",
      "\u001b[1;31mClick <a href='https://aka.ms/vscodeJupyterKernelCrash'>here</a> for more info. \n",
      "\u001b[1;31mView Jupyter <a href='command:jupyter.viewOutput'>log</a> for further details."
     ]
    }
   ],
   "source": [
    "import os\n",
    "import pickle\n",
    "import numpy as np\n",
    "from sklearn.metrics import roc_auc_score, f1_score, accuracy_score, precision_score, recall_score\n",
    "from scipy.stats import sem, t\n",
    "import subprocess\n",
    "\n",
    "# Caminho para os dados pré-processados\n",
    "data_dir = \"Data\"\n",
    "machine_types = [d for d in os.listdir(data_dir) if os.path.isdir(os.path.join(data_dir, d))]\n",
    "n_folds = 10\n",
    "\n",
    "# Função para rodar o pipeline de K-fold cross-validation\n",
    "def run_kfold_pipeline(machine_type, machine_id):\n",
    "    roc_aucs, f1s, accs, precs, recalls = [], [], [], [], []\n",
    "    for fold in range(n_folds):\n",
    "        # Folds para treino e teste\n",
    "        test_fold = fold\n",
    "        train_folds = [f for f in range(n_folds) if f != test_fold]\n",
    "\n",
    "        # Carregar ciclos normais de treino (de todos os folds exceto o de teste)\n",
    "        train_cycles = []\n",
    "        for tr_fold in train_folds:\n",
    "            train_path = os.path.join(data_dir, f\"preprocessed_mimii_{machine_type}_{machine_id}_Fold_{tr_fold}\", f\"{machine_type}_{machine_id}_train_cycles_fold{tr_fold}.pkl\")\n",
    "            with open(train_path, \"rb\") as f:\n",
    "                train_cycles += pickle.load(f)\n",
    "        # Salvar temporariamente para o WAE-GAN\n",
    "        train_tmp_path = f\"tmp_{machine_type}_{machine_id}_train.pkl\"\n",
    "        with open(train_tmp_path, \"wb\") as f:\n",
    "            pickle.dump(train_cycles, f)\n",
    "\n",
    "        # Carregar ciclos de teste e labels do fold de teste\n",
    "        test_path = os.path.join(data_dir, f\"preprocessed_mimii_{machine_type}_{machine_id}_Fold_{test_fold}\", f\"{machine_type}_{machine_id}_test_cycles_fold{test_fold}.pkl\")\n",
    "        test_labels_path = os.path.join(data_dir, f\"preprocessed_mimii_{machine_type}_{machine_id}_Fold_{test_fold}\", f\"{machine_type}_{machine_id}_test_labels_fold{test_fold}.pkl\")\n",
    "        with open(test_path, \"rb\") as f:\n",
    "            test_cycles = pickle.load(f)\n",
    "        with open(test_labels_path, \"rb\") as f:\n",
    "            test_labels = pickle.load(f)\n",
    "        test_tmp_path = f\"tmp_{machine_type}_{machine_id}_test.pkl\"\n",
    "        with open(test_tmp_path, \"wb\") as f:\n",
    "            pickle.dump(test_cycles, f)\n",
    "\n",
    "        # Use subprocess para acompanhar os processos no terminal\n",
    "        subprocess.run(f\"python WAE/WAE_hyperparams.py all {machine_type} {machine_id} {fold}\", shell=True)\n",
    "        subprocess.run(f\"python anomaly_detectionAdversarial.py --results_file results/{machine_type}_{machine_id}_Fold{fold}.pkl  --test_labels_path {test_labels_path}\", shell=True)\n",
    "\n",
    "        # Carregar resultados do fold\n",
    "        results_file = f\"results/{machine_type}_{machine_id}_Fold{fold}_metrics.pkl\"\n",
    "        if os.path.exists(results_file):\n",
    "            with open(results_file, \"rb\") as f:\n",
    "                metrics = pickle.load(f)\n",
    "            roc_aucs.append(metrics[\"roc_auc\"])\n",
    "            f1s.append(metrics[\"f1\"])\n",
    "            accs.append(metrics[\"accuracy\"])\n",
    "            precs.append(metrics[\"precision\"])\n",
    "            recalls.append(metrics[\"recall\"])\n",
    "\n",
    "        # Limpar arquivos temporários\n",
    "        os.remove(train_tmp_path)\n",
    "        os.remove(test_tmp_path)\n",
    "\n",
    "    # Calcular média, desvio padrão e intervalo de confiança para ROC-AUC\n",
    "    roc_auc_mean = np.mean(roc_aucs)\n",
    "    roc_auc_std = np.std(roc_aucs)\n",
    "    conf_int = t.interval(0.95, len(roc_aucs)-1, loc=roc_auc_mean, scale=sem(roc_aucs))\n",
    "    print(f\"{machine_type}/{machine_id} - ROC-AUC: {roc_auc_mean:.4f} ± {roc_auc_std:.4f} (95% CI: {conf_int})\")\n",
    "    print(f\"F1-score: {np.mean(f1s):.4f} ± {np.std(f1s):.4f}\")\n",
    "    print(f\"Acurácia: {np.mean(accs):.4f} ± {np.std(accs):.4f}\")\n",
    "    print(f\"Precisão: {np.mean(precs):.4f} ± {np.std(precs):.4f}\")\n",
    "    print(f\"Recall: {np.mean(recalls):.4f} ± {np.std(recalls):.4f}\")\n",
    "\n",
    "# Exemplo para rodar para todos os tipos/ids de máquina\n",
    "for machine_type in [\"valve\"]:  \n",
    "    for machine_id in [\"id_00\"]:  \n",
    "        run_kfold_pipeline(machine_type, machine_id)"
   ]
  }
 ],
 "metadata": {
  "kernelspec": {
   "display_name": "base",
   "language": "python",
   "name": "python3"
  },
  "language_info": {
   "codemirror_mode": {
    "name": "ipython",
    "version": 3
   },
   "file_extension": ".py",
   "mimetype": "text/x-python",
   "name": "python",
   "nbconvert_exporter": "python",
   "pygments_lexer": "ipython3",
   "version": "3.11.3"
  }
 },
 "nbformat": 4,
 "nbformat_minor": 5
}
