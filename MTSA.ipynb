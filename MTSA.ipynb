{
 "cells": [
  {
   "attachments": {},
   "cell_type": "markdown",
   "metadata": {
    "colab_type": "text",
    "id": "view-in-github"
   },
   "source": [
    "<a href=\"https://colab.research.google.com/github/diegompin/mtsa/blob/feature%2Fv0.0.8/examples/MTSA.ipynb\" target=\"_parent\"><img src=\"https://colab.research.google.com/assets/colab-badge.svg\" alt=\"Open In Colab\"/></a>"
   ]
  },
  {
   "attachments": {},
   "cell_type": "markdown",
   "metadata": {
    "id": "T3S9SKUv2m_f"
   },
   "source": [
    "# MTSA - **M**ultiple **T**ime **S**eries **A**nalysis\n"
   ]
  },
  {
   "attachments": {},
   "cell_type": "markdown",
   "metadata": {
    "id": "BkjlJ89P5Ftn"
   },
   "source": [
    "### Installing MTSA module:"
   ]
  },
  {
   "cell_type": "code",
   "execution_count": null,
   "metadata": {
    "id": "ko7L-5oj2-J4"
   },
   "outputs": [],
   "source": [
    "!pip install mtsa"
   ]
  },
  {
   "attachments": {},
   "cell_type": "markdown",
   "metadata": {
    "id": "WJOI-F8i5Ohp"
   },
   "source": [
    "### Cloning MTSA repository:"
   ]
  },
  {
   "attachments": {},
   "cell_type": "markdown",
   "metadata": {
    "id": "teEVpIfJ5cB-"
   },
   "source": [
    "*Obs: This step is necessary to access the example data.*"
   ]
  },
  {
   "cell_type": "code",
   "execution_count": null,
   "metadata": {
    "id": "X7plkqXx3fFM"
   },
   "outputs": [],
   "source": [
    "!git clone https://github.com/diegompin/mtsa.git"
   ]
  },
  {
   "attachments": {},
   "cell_type": "markdown",
   "metadata": {
    "id": "GPQ09fBr5ue_"
   },
   "source": [
    "### Setting data directory:"
   ]
  },
  {
   "cell_type": "code",
   "execution_count": 1,
   "metadata": {},
   "outputs": [],
   "source": [
    "%load_ext autoreload\n",
    "%autoreload 2"
   ]
  },
  {
   "cell_type": "code",
   "execution_count": 2,
   "metadata": {
    "colab": {
     "base_uri": "https://localhost:8080/",
     "height": 36
    },
    "id": "fDEi8QAf3Wq0",
    "outputId": "f8d21c19-110b-4ac4-d762-f6040379112d"
   },
   "outputs": [],
   "source": [
    "import os\n",
    "path_input_1 = os.path.join(os.getcwd(),   \"slider\", \"id_00\")\n",
    "path_input_2 = os.path.join(os.getcwd(),  \"Data\", \"slider\", \"id_00\")"
   ]
  },
  {
   "cell_type": "code",
   "execution_count": 3,
   "metadata": {},
   "outputs": [
    {
     "name": "stdout",
     "output_type": "stream",
     "text": [
      "WARNING:tensorflow:From c:\\Users\\igorc\\anaconda3\\Lib\\site-packages\\keras\\src\\losses.py:2976: The name tf.losses.sparse_softmax_cross_entropy is deprecated. Please use tf.compat.v1.losses.sparse_softmax_cross_entropy instead.\n",
      "\n",
      "WARNING:tensorflow:From C:\\Users\\igorc\\AppData\\Local\\Temp\\ipykernel_48348\\27524072.py:4: is_gpu_available (from tensorflow.python.framework.test_util) is deprecated and will be removed in a future version.\n",
      "Instructions for updating:\n",
      "Use `tf.config.list_physical_devices('GPU')` instead.\n",
      "NVIDIA GeForce RTX 3070 Ti Laptop GPU\n",
      "[] False\n"
     ]
    },
    {
     "ename": "AssertionError",
     "evalue": "Not enough GPU hardware devices available",
     "output_type": "error",
     "traceback": [
      "\u001b[1;31m---------------------------------------------------------------------------\u001b[0m",
      "\u001b[1;31mAssertionError\u001b[0m                            Traceback (most recent call last)",
      "Cell \u001b[1;32mIn[3], line 12\u001b[0m\n\u001b[0;32m      8\u001b[0m gpus \u001b[38;5;241m=\u001b[39m tf\u001b[38;5;241m.\u001b[39mconfig\u001b[38;5;241m.\u001b[39mlist_physical_devices(\u001b[38;5;124m'\u001b[39m\u001b[38;5;124mGPU\u001b[39m\u001b[38;5;124m'\u001b[39m)\n\u001b[0;32m      9\u001b[0m \u001b[38;5;28mprint\u001b[39m(gpus ,gpuTF)\n\u001b[1;32m---> 12\u001b[0m \u001b[38;5;28;01massert\u001b[39;00m \u001b[38;5;28mlen\u001b[39m(gpus) \u001b[38;5;241m<\u001b[39m \u001b[38;5;241m0\u001b[39m, \u001b[38;5;124m\"\u001b[39m\u001b[38;5;124mNot enough GPU hardware devices available\u001b[39m\u001b[38;5;124m\"\u001b[39m\n\u001b[0;32m     13\u001b[0m \u001b[38;5;28;01mif\u001b[39;00m gpus:\n\u001b[0;32m     14\u001b[0m     \u001b[38;5;28;01mfor\u001b[39;00m gpu \u001b[38;5;129;01min\u001b[39;00m gpus:\n",
      "\u001b[1;31mAssertionError\u001b[0m: Not enough GPU hardware devices available"
     ]
    }
   ],
   "source": [
    "import torch\n",
    "import tensorflow as tf\n",
    "gpuTorch = torch.cuda.is_available()\n",
    "gpuTF = tf.test.is_gpu_available()\n",
    "if gpuTorch:\n",
    "    for i in range(torch.cuda.device_count()):\n",
    "        print(torch.cuda.get_device_name(i))\n",
    "gpus = tf.config.list_physical_devices('GPU')\n",
    "print(gpus ,gpuTF)\n",
    "\n",
    "\n",
    "assert len(gpus) < 0, \"Not enough GPU hardware devices available\"\n",
    "if gpus:\n",
    "    for gpu in gpus:\n",
    "        tf.config.experimental.set_memory_growth(gpu, True)\n",
    "\n",
    "\n",
    "gpus"
   ]
  },
  {
   "cell_type": "code",
   "execution_count": 4,
   "metadata": {},
   "outputs": [],
   "source": [
    "import sys\n",
    "sys.path.append(\"..\")"
   ]
  },
  {
   "attachments": {},
   "cell_type": "markdown",
   "metadata": {
    "id": "8sgHTpcy53JY"
   },
   "source": [
    "### Reading Data Files:"
   ]
  },
  {
   "cell_type": "code",
   "execution_count": 5,
   "metadata": {
    "colab": {
     "base_uri": "https://localhost:8080/"
    },
    "id": "KyZ2hEM228t3",
    "outputId": "b907463f-efe2-419a-ebbb-f87b8851acd0"
   },
   "outputs": [
    {
     "data": {
      "text/plain": [
       "array([1., 1., 1., 1., 1., 1., 1., 1., 1., 1., 1., 1., 1., 1., 1., 1., 1.,\n",
       "       1., 1., 1., 1., 1., 1., 1., 1., 1., 1., 1., 1., 1., 1., 1., 1., 1.,\n",
       "       1., 1., 1., 1., 1., 1., 1., 1., 1., 1., 1., 1., 1., 1., 1., 1., 1.,\n",
       "       1., 1., 1., 1., 1., 1., 1., 1., 1., 1., 1., 1., 1., 1., 1., 1., 1.,\n",
       "       1., 1., 1., 1., 1., 1., 1., 1., 1., 1., 1., 1., 1., 1., 1., 1., 1.,\n",
       "       1., 1., 1., 1., 1., 1., 1., 1., 1., 1., 1., 1., 1., 1., 1., 1., 1.,\n",
       "       1., 1., 1., 1., 1., 1., 1., 1., 1., 1., 1., 1., 1., 1., 1., 1., 1.,\n",
       "       1., 1., 1., 1., 1., 1., 1., 1., 1., 1., 1., 1., 1., 1., 1., 1., 1.,\n",
       "       1., 1., 1., 1., 1., 1., 1., 1., 1., 1., 1., 1., 1., 1., 1., 1., 1.,\n",
       "       1., 1., 1., 1., 1., 1., 1., 1., 1., 1., 1., 1., 1., 1., 1., 1., 1.,\n",
       "       1., 1., 1., 1., 1., 1., 1., 1., 1., 1., 1., 1., 1., 1., 1., 1., 1.,\n",
       "       1., 1., 1., 1., 1., 1., 1., 1., 1., 1., 1., 1., 1., 1., 1., 1., 1.,\n",
       "       1., 1., 1., 1., 1., 1., 1., 1., 1., 1., 1., 1., 1., 1., 1., 1., 1.,\n",
       "       1., 1., 1., 1., 1., 1., 1., 1., 1., 1., 1., 1., 1., 1., 1., 1., 1.,\n",
       "       1., 1., 1., 1., 1., 1., 1., 1., 1., 1., 1., 1., 1., 1., 1., 1., 1.,\n",
       "       1., 1., 1., 1., 1., 1., 1., 1., 1., 1., 1., 1., 1., 1., 1., 1., 1.,\n",
       "       1., 1., 1., 1., 1., 1., 1., 1., 1., 1., 1., 1., 1., 1., 1., 1., 1.,\n",
       "       1., 1., 1., 1., 1., 1., 1., 1., 1., 1., 1., 1., 1., 1., 1., 1., 1.,\n",
       "       1., 1., 1., 1., 1., 1., 1., 1., 1., 1., 1., 1., 1., 1., 1., 1., 1.,\n",
       "       1., 1., 1., 1., 1., 1., 1., 1., 1., 1., 1., 1., 1., 1., 1., 1., 1.,\n",
       "       1., 1., 1., 1., 1., 1., 1., 1., 1., 1., 1., 1., 1., 1., 1., 1., 1.,\n",
       "       1., 1., 1., 1., 1., 1., 1., 1., 1., 1., 1., 1., 1., 1., 1., 1., 1.,\n",
       "       1., 1., 1., 1., 1., 1., 1., 1., 1., 1., 1., 1., 1., 1., 1., 1., 1.,\n",
       "       1., 1., 1., 1., 1., 1., 1., 1., 1., 1., 1., 1., 1., 1., 1., 1., 1.,\n",
       "       1., 1., 1., 1., 1., 1., 1., 1., 1., 1., 1., 1., 1., 1., 1., 1., 1.,\n",
       "       1., 1., 1., 1., 1., 1., 1., 1., 1., 1., 1., 1., 1., 1., 1., 1., 1.,\n",
       "       1., 1., 1., 1., 1., 1., 1., 1., 1., 1., 1., 1., 1., 1., 1., 1., 1.,\n",
       "       1., 1., 1., 1., 1., 1., 1., 1., 1., 1., 1., 1., 1., 1., 1., 1., 1.,\n",
       "       1., 1., 1., 1., 1., 1., 1., 1., 1., 1., 1., 1., 1., 1., 1., 1., 1.,\n",
       "       1., 1., 1., 1., 1., 1., 1., 1., 1., 1., 1., 1., 1., 1., 1., 1., 1.,\n",
       "       1., 1., 1., 1., 1., 1., 1., 1., 1., 1., 1., 1., 1., 1., 1., 1., 1.,\n",
       "       1., 1., 1., 1., 1., 1., 1., 1., 1., 1., 1., 1., 1., 1., 1., 1., 1.,\n",
       "       1., 1., 1., 1., 1., 1., 1., 1., 1., 1., 1., 1., 1., 1., 1., 1., 1.,\n",
       "       1., 1., 1., 1., 1., 1., 1., 1., 1., 1., 1., 1., 1., 1., 1., 1., 1.,\n",
       "       1., 1., 1., 1., 1., 1., 1., 1., 1., 1., 1., 1., 1., 1., 1., 1., 1.,\n",
       "       1., 1., 1., 1., 1., 1., 1., 1., 1., 1., 1., 1., 1., 1., 1., 1., 1.,\n",
       "       1., 1., 1., 1., 1., 1., 1., 1., 1., 1., 1., 1., 1., 1., 1., 1., 1.,\n",
       "       1., 1., 1., 1., 1., 1., 1., 1., 1., 1., 1., 1., 1., 1., 1., 1., 1.,\n",
       "       1., 1., 1., 1., 1., 1., 1., 1., 1., 1., 1., 1., 1., 1., 1., 1., 1.,\n",
       "       1., 1., 1., 1., 1., 1., 1., 1., 1., 1., 1., 1., 1., 1., 1., 1., 1.,\n",
       "       1., 1., 1., 1., 1., 1., 1., 1., 1., 1., 1., 1., 1., 1., 1., 1., 1.,\n",
       "       1., 1., 1., 1., 1., 1., 1., 1., 1., 1., 1., 1., 1., 1., 1.])"
      ]
     },
     "execution_count": 5,
     "metadata": {},
     "output_type": "execute_result"
    }
   ],
   "source": [
    "from mtsa import files_train_test_split\n",
    "#path_input_1 = '/data/MIMII/fan/id_00/'\n",
    "X_train, X_test, y_train, y_test = files_train_test_split(path_input_1)\n",
    "if(len(y_train) == 0): \n",
    "    X_train, X_test, y_train, y_test = files_train_test_split(path_input_2)\n",
    "y_train"
   ]
  },
  {
   "cell_type": "markdown",
   "metadata": {},
   "source": [
    "### Preprocessing Mimii .wav files into MFCC arrays and generating chunks"
   ]
  },
  {
   "cell_type": "code",
   "execution_count": 6,
   "metadata": {},
   "outputs": [],
   "source": [
    "from mtsa import Wav2Array\n",
    "from mtsa import Array2Mfcc\n",
    "import numpy as np\n",
    "import pandas as pd\n",
    "import torch as th\n",
    "from sklearn.model_selection import train_test_split\n",
    "import pickle as pkl\n",
    "\n"
   ]
  },
  {
   "cell_type": "markdown",
   "metadata": {},
   "source": [
    "### Convert .wav files to MFCC\n"
   ]
  },
  {
   "cell_type": "code",
   "execution_count": 8,
   "metadata": {},
   "outputs": [],
   "source": [
    "w2a = Wav2Array(16000)\n",
    "\n",
    "wavArrayTrain  = w2a.transform(X_train)\n",
    "wavArrayTest  = w2a.transform(X_test)\n"
   ]
  },
  {
   "cell_type": "code",
   "execution_count": 10,
   "metadata": {},
   "outputs": [
    {
     "data": {
      "text/plain": [
       "(712, 160000)"
      ]
     },
     "execution_count": 10,
     "metadata": {},
     "output_type": "execute_result"
    }
   ],
   "source": [
    "wavArrayTest.shape"
   ]
  },
  {
   "cell_type": "code",
   "execution_count": 15,
   "metadata": {},
   "outputs": [
    {
     "data": {
      "text/plain": [
       "((712, 20, 313), (712, 20, 313))"
      ]
     },
     "execution_count": 15,
     "metadata": {},
     "output_type": "execute_result"
    }
   ],
   "source": [
    "array2mfcc_Train = Array2Mfcc(16000)\n",
    " \n",
    "train_mfcc =  array2mfcc_Train.transform(wavArrayTrain)\n",
    "\n",
    "array2mfccTest = Array2Mfcc(16000)\n",
    "\n",
    "test_mfcc =  array2mfccTest.transform(wavArrayTest)\n",
    "\n",
    "\n",
    "train_mfcc.shape, test_mfcc.shape\n",
    "\n"
   ]
  },
  {
   "cell_type": "code",
   "execution_count": 24,
   "metadata": {},
   "outputs": [
    {
     "data": {
      "text/plain": [
       "array([[[-4.90106567e+02, -4.55618347e+02, -4.48428741e+02, ...,\n",
       "         -4.65633514e+02, -4.69448547e+02, -4.77055634e+02],\n",
       "        [ 1.32247360e+02,  1.40794586e+02,  1.44545410e+02, ...,\n",
       "          1.39753342e+02,  1.37583115e+02,  1.32106430e+02],\n",
       "        [ 6.38315487e+00,  1.91787028e+00, -6.33089602e-01, ...,\n",
       "         -6.75505829e+00, -8.33828545e+00, -8.06677628e+00],\n",
       "        ...,\n",
       "        [-1.95628750e+00, -2.27602482e+00,  1.48715198e+00, ...,\n",
       "         -1.38971257e+00, -5.01460743e+00, -1.20281708e+00],\n",
       "        [-9.60069084e+00, -2.98426366e+00, -4.06666613e+00, ...,\n",
       "         -3.52169156e-01, -1.77696300e+00,  1.45258868e+00],\n",
       "        [-2.33034015e+00, -9.39792395e-01,  3.88148129e-01, ...,\n",
       "          3.79010677e+00,  8.48653838e-02,  4.62812662e+00]],\n",
       "\n",
       "       [[-4.84633392e+02, -4.71696136e+02, -4.74537048e+02, ...,\n",
       "         -4.81284821e+02, -4.85320892e+02, -4.76712524e+02],\n",
       "        [ 1.17563065e+02,  1.28414505e+02,  1.31163544e+02, ...,\n",
       "          1.36108490e+02,  1.33667480e+02,  1.25480774e+02],\n",
       "        [ 1.43901997e+01,  1.12357330e+01,  8.65528870e+00, ...,\n",
       "          7.74724483e+00,  8.50844097e+00,  1.66269588e+01],\n",
       "        ...,\n",
       "        [-3.70586634e-01, -7.23343420e+00, -7.58774090e+00, ...,\n",
       "         -5.71840763e+00, -2.70213556e+00, -5.29601526e+00],\n",
       "        [ 2.03968287e-01, -1.27226448e+00, -2.30928540e+00, ...,\n",
       "         -1.77082074e+00, -3.26933432e+00, -6.80737209e+00],\n",
       "        [ 5.00177288e+00,  5.07188082e+00,  4.40356064e+00, ...,\n",
       "         -1.54200330e-01,  6.46409750e-01, -1.20905876e-01]],\n",
       "\n",
       "       [[-4.41418579e+02, -4.15151184e+02, -4.24710754e+02, ...,\n",
       "         -4.45563568e+02, -4.40862213e+02, -4.52431366e+02],\n",
       "        [ 1.00339081e+02,  1.01681549e+02,  9.43430099e+01, ...,\n",
       "          8.12428894e+01,  7.98096466e+01,  8.00720520e+01],\n",
       "        [ 2.33701630e+01,  2.21788273e+01,  2.10740891e+01, ...,\n",
       "          1.53664742e+01,  1.67668343e+01,  1.14324703e+01],\n",
       "        ...,\n",
       "        [-3.60671115e+00,  2.33405638e+00,  3.52079296e+00, ...,\n",
       "          2.16497958e-01,  1.54931295e+00,  4.14252377e+00],\n",
       "        [-1.09494171e+01, -4.98651028e+00, -2.04965591e+00, ...,\n",
       "          7.61939347e-01,  4.65060711e+00, -1.00120687e+00],\n",
       "        [-2.68364453e+00, -9.77151155e-01,  1.02249146e+00, ...,\n",
       "          4.92032826e-01,  2.61347580e+00,  1.41930687e+00]],\n",
       "\n",
       "       ...,\n",
       "\n",
       "       [[-4.96157227e+02, -4.77132233e+02, -4.73575439e+02, ...,\n",
       "         -4.57635681e+02, -4.59318512e+02, -4.65965118e+02],\n",
       "        [ 1.00945297e+02,  1.07473274e+02,  1.12093300e+02, ...,\n",
       "          1.18775223e+02,  1.16186661e+02,  1.14710030e+02],\n",
       "        [ 1.89280396e+01,  1.82569733e+01,  1.67285919e+01, ...,\n",
       "          1.84380932e+01,  1.57816257e+01,  1.66402702e+01],\n",
       "        ...,\n",
       "        [-8.90471518e-01,  4.09864235e+00,  7.03439522e+00, ...,\n",
       "         -7.88775110e+00, -7.04535294e+00, -8.93932724e+00],\n",
       "        [-3.37425137e+00, -3.80140209e+00, -6.50083351e+00, ...,\n",
       "         -1.46735477e+01, -1.49760799e+01, -1.32190342e+01],\n",
       "        [-4.83007526e+00, -4.52703571e+00, -6.44606209e+00, ...,\n",
       "          2.25295782e-01, -1.59158170e+00, -2.41831017e+00]],\n",
       "\n",
       "       [[-5.09122314e+02, -4.83152283e+02, -4.78408356e+02, ...,\n",
       "         -4.88632172e+02, -4.93158203e+02, -4.97665314e+02],\n",
       "        [ 1.26139816e+02,  1.37690338e+02,  1.45501099e+02, ...,\n",
       "          1.55417282e+02,  1.55529449e+02,  1.46381149e+02],\n",
       "        [-1.40673704e+01, -2.39593086e+01, -2.78696899e+01, ...,\n",
       "         -2.03671098e-01, -2.34905982e+00, -7.09488988e-02],\n",
       "        ...,\n",
       "        [ 3.41011858e+00,  5.44986343e+00,  6.16088676e+00, ...,\n",
       "         -7.12267113e+00, -7.63714409e+00, -6.56365776e+00],\n",
       "        [-7.19961596e+00, -4.40389299e+00, -1.71926379e+00, ...,\n",
       "         -2.69664598e+00, -4.03415203e+00,  2.83304214e+00],\n",
       "        [-6.37448549e+00, -7.83483696e+00, -4.83992386e+00, ...,\n",
       "          3.59552050e+00, -2.34834254e-01, -1.48284006e+00]],\n",
       "\n",
       "       [[-4.81332123e+02, -4.55191010e+02, -4.50452789e+02, ...,\n",
       "         -4.63239960e+02, -4.56458740e+02, -4.50523956e+02],\n",
       "        [ 1.20568626e+02,  1.27324173e+02,  1.28530655e+02, ...,\n",
       "          1.27832977e+02,  1.27658981e+02,  1.21037506e+02],\n",
       "        [-1.04156437e+01, -6.85054159e+00, -6.91971684e+00, ...,\n",
       "         -1.06407642e-01, -3.62290382e+00,  6.06286144e+00],\n",
       "        ...,\n",
       "        [-9.35365677e+00, -4.33484650e+00,  5.71731150e-01, ...,\n",
       "         -1.04685078e+01, -1.11711473e+01, -5.78626919e+00],\n",
       "        [-9.36360168e+00, -9.59557343e+00, -6.48124504e+00, ...,\n",
       "         -1.06849661e+01, -1.12462330e+01, -7.63264465e+00],\n",
       "        [-1.90939263e-01,  3.13195288e-01,  1.07743025e-01, ...,\n",
       "         -5.50256824e+00, -5.37689495e+00, -4.33445930e+00]]],\n",
       "      dtype=float32)"
      ]
     },
     "execution_count": 24,
     "metadata": {},
     "output_type": "execute_result"
    }
   ],
   "source": [
    "train_mfcc"
   ]
  },
  {
   "cell_type": "code",
   "execution_count": 23,
   "metadata": {},
   "outputs": [
    {
     "data": {
      "text/plain": [
       "<matplotlib.colorbar.Colorbar at 0x1a871228790>"
      ]
     },
     "execution_count": 23,
     "metadata": {},
     "output_type": "execute_result"
    },
    {
     "data": {
      "image/png": "[encoded data removed]",
      "text/plain": [
       "<Figure size 640x480 with 2 Axes>"
      ]
     },
     "metadata": {},
     "output_type": "display_data"
    }
   ],
   "source": [
    "# plot the  mfcc\n",
    "\n",
    "import matplotlib.pyplot as plt\n",
    "\n",
    "plt.imshow(train_mfcc[0], interpolation=\"nearest\", origin=\"lower\", aspect=\"auto\")\n",
    "plt.colorbar()\n"
   ]
  },
  {
   "cell_type": "code",
   "execution_count": 25,
   "metadata": {},
   "outputs": [
    {
     "data": {
      "text/plain": [
       "array([], dtype=float64)"
      ]
     },
     "execution_count": 25,
     "metadata": {},
     "output_type": "execute_result"
    }
   ],
   "source": [
    "train_chunks"
   ]
  }
 ],
 "metadata": {
  "colab": {
   "authorship_tag": "ABX9TyNBZGR2CHjd5DTVJQyBRUus",
   "include_colab_link": true,
   "provenance": []
  },
  "kernelspec": {
   "display_name": "base",
   "language": "python",
   "name": "python3"
  },
  "language_info": {
   "codemirror_mode": {
    "name": "ipython",
    "version": 3
   },
   "file_extension": ".py",
   "mimetype": "text/x-python",
   "name": "python",
   "nbconvert_exporter": "python",
   "pygments_lexer": "ipython3",
   "version": "3.11.3"
  }
 },
 "nbformat": 4,
 "nbformat_minor": 0
}
